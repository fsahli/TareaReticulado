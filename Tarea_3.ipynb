{
 "cells": [
  {
   "cell_type": "markdown",
   "metadata": {},
   "source": [
    "# Tarea 3 - Reticulados\n",
    "Para el domingo 5 de abril a las 23:59"
   ]
  },
  {
   "cell_type": "markdown",
   "metadata": {},
   "source": [
    "## Código de Honor\n",
    "Me comprometo a hacer esta tarea por mi cuenta y por mis propios medios:"
   ]
  },
  {
   "cell_type": "code",
   "execution_count": 15,
   "metadata": {},
   "outputs": [
    {
     "name": "stdout",
     "output_type": "stream",
     "text": [
      "mi nombre aqui\n"
     ]
    }
   ],
   "source": [
    "firma = 'mi nombre aqui'\n",
    "print(firma)"
   ]
  },
  {
   "cell_type": "markdown",
   "metadata": {},
   "source": [
    "Completar este programa para determinar las fuerzas y reacciones en un\n",
    "reticulado segun lo visto en clases. La tarea sera evaluada con un\n",
    "reticulado arbitrario.\n",
    "\n",
    "Bonus: se premiara con 0.3 puntos del curso al que incorpore en su codigo alguna\n",
    "forma de mostrar los resultados en un grafico. Puede ser distintos colores, o con numeros.\n",
    "Queda a discreción del profesor la cantidad del puntaje asignado, segun la calidad del gráfico."
   ]
  },
  {
   "cell_type": "code",
   "execution_count": 16,
   "metadata": {},
   "outputs": [],
   "source": [
    "from Truss import * # Importa el modulo con las funciones\n",
    "filename='truss.in'; #nombre del archivo con la informacion del reticulado"
   ]
  },
  {
   "cell_type": "code",
   "execution_count": 17,
   "metadata": {},
   "outputs": [
    {
     "name": "stdout",
     "output_type": "stream",
     "text": [
      "[[0. 0.]\n",
      " [1. 0.]\n",
      " [2. 0.]\n",
      " [0. 1.]\n",
      " [1. 1.]]\n",
      "[[0 1]\n",
      " [1 2]\n",
      " [0 3]\n",
      " [3 1]\n",
      " [1 4]\n",
      " [4 2]\n",
      " [3 4]]\n",
      "[[0 1 0]\n",
      " [0 0 1]\n",
      " [3 1 0]]\n",
      "[[   2.    0. -100.]\n",
      " [   3.    0. -300.]]\n"
     ]
    }
   ],
   "source": [
    "tr=Truss(filename)"
   ]
  },
  {
   "cell_type": "markdown",
   "metadata": {},
   "source": [
    "Se genera un objeto `Truss`, que tiene los siguientes atributos:\n",
    "\n",
    "- `tr.nodes [nro de nodos,2]`: tiene la posicion X,Y de cada nodo en el mismo\n",
    "orden en que fueron especificados en el archivo.\n",
    "- `tr.bars [nro de barras,2]`: contiene el numero de cada nodo que esta\n",
    "presente en la barra\n",
    "- `tr.reac [nro de reacciones, 3]`: en la primera columna tiene los nodos en los\n",
    "que esta aplicada la reaccion. La 2da y 3ra corresponden a un vector\n",
    "unitario especificando la direccion de la reaccion. El número de nodo en que está aplicada la fuerza puede venir en `float`. Hay que convertirlo a `int` para usarlo como índice: `i = int(f)`.\n",
    "- `tr.force [nro de fuerzas,3]`: en la primera columna tiene los nodos en los\n",
    "que esta aplicada la fuerza. La 2da y 3ra corresponden a un vector\n",
    "especificando la fuerza. Ojo!! El número de nodo en que está aplicada la fuerza puede venir en `float`. Hay que convertirlo a `int` para usarlo como índice: `i = int(f)`.\n",
    "\n",
    "Además cuenta con las funciones:\n",
    "\n",
    "- `tr.plot`: dibuja el reticulado. En negro se grafican las restricciones\n",
    "en rojo las fuerzas. Los vectores estan dibujados de manera que siempre apuntan al nodo.\n",
    "- `tr.X(i,j)` retorna el coeficiente X.\n",
    "- `tr.Y(i,j)` retorna el coeficiente Y."
   ]
  },
  {
   "cell_type": "markdown",
   "metadata": {},
   "source": [
    "$X(i,j,k) = (x_i - x_j)/l_k$"
   ]
  },
  {
   "cell_type": "code",
   "execution_count": 22,
   "metadata": {},
   "outputs": [
    {
     "data": {
      "text/plain": [
       "-1.0"
      ]
     },
     "execution_count": 22,
     "metadata": {},
     "output_type": "execute_result"
    }
   ],
   "source": [
    "tr.X(1,2) "
   ]
  },
  {
   "cell_type": "code",
   "execution_count": 11,
   "metadata": {},
   "outputs": [
    {
     "name": "stdout",
     "output_type": "stream",
     "text": [
      "[0.]\n",
      "[0.]\n"
     ]
    },
    {
     "data": {
      "image/png": "[encoded data removed]",
      "text/plain": [
       "<Figure size 432x288 with 1 Axes>"
      ]
     },
     "metadata": {
      "needs_background": "light"
     },
     "output_type": "display_data"
    }
   ],
   "source": [
    "tr.plot()"
   ]
  },
  {
   "cell_type": "markdown",
   "metadata": {},
   "source": [
    "## Caso isoestático\n",
    "Calcule las fuerzas y reacciones para un reticulado isoestático según lo visto en clases"
   ]
  },
  {
   "cell_type": "code",
   "execution_count": 24,
   "metadata": {},
   "outputs": [
    {
     "name": "stdout",
     "output_type": "stream",
     "text": [
      "[[0. 0.]\n",
      " [1. 0.]\n",
      " [2. 0.]\n",
      " [0. 1.]\n",
      " [1. 1.]]\n",
      "[[0 1]\n",
      " [1 2]\n",
      " [0 3]\n",
      " [3 1]\n",
      " [1 4]\n",
      " [4 2]\n",
      " [3 4]]\n",
      "[[0 1 0]\n",
      " [0 0 1]\n",
      " [3 1 0]]\n",
      "[[   2.    0. -100.]\n",
      " [   3.    0. -300.]]\n",
      "[[ 0. -1.  0.  0.  0.  0.  0.  0.  0.  0.]\n",
      " [ 0.  0.  0.  0.  0.  0.  0.  0.  0.  0.]\n",
      " [ 0.  0.  0.  0.  0.  0.  0.  0.  0.  0.]\n",
      " [ 0.  0.  0.  0.  0.  0.  0.  0.  0.  0.]\n",
      " [ 0.  0.  0.  0.  0.  0.  0.  0.  0.  0.]\n",
      " [ 0.  0.  0.  0.  0.  0.  0.  0.  0.  0.]\n",
      " [ 0.  0.  0.  0.  0.  0.  0.  0.  0.  0.]\n",
      " [ 0.  0.  0.  0.  0.  0.  0.  0.  0.  0.]\n",
      " [ 0.  0.  0.  0.  0.  0.  0.  0.  0.  0.]\n",
      " [ 0.  0.  0.  0.  0.  0.  0.  0.  0.  0.]]\n"
     ]
    }
   ],
   "source": [
    "tr=Truss(filename)\n",
    "\n",
    "A=np.zeros((len(tr.bars)+len(tr.reac),len(tr.bars)+len(tr.reac)))\n",
    "f=np.zeros(len(tr.bars)+len(tr.reac))\n",
    "\n",
    "nb=len(tr.bars)\n",
    "\n",
    "# Aquí va su desarrollo.\n",
    "\n",
    "A[0,1] = tr.X(1,2)\n",
    "print(A)"
   ]
  },
  {
   "cell_type": "code",
   "execution_count": null,
   "metadata": {},
   "outputs": [],
   "source": [
    "F=np.linalg.solve(A,f) # para resolver. Llamar F al vector que contiene las fuerzas"
   ]
  },
  {
   "cell_type": "code",
   "execution_count": null,
   "metadata": {},
   "outputs": [],
   "source": [
    "for i in range(nb):\n",
    "    print('Fuerza en la barra %i:' % i, F[i])\n",
    "    \n",
    "for i in range(len(tr.reac)):\n",
    "    print('Reacción en nodo %i, dirección [%d, %d]:' % (tr.reac[i,0], tr.reac[i,1], tr.reac[i,2]), F[i + nb])"
   ]
  }
 ],
 "metadata": {
  "kernelspec": {
   "display_name": "Python 3",
   "language": "python",
   "name": "python3"
  },
  "language_info": {
   "codemirror_mode": {
    "name": "ipython",
    "version": 3
   },
   "file_extension": ".py",
   "mimetype": "text/x-python",
   "name": "python",
   "nbconvert_exporter": "python",
   "pygments_lexer": "ipython3",
   "version": "3.7.3"
  }
 },
 "nbformat": 4,
 "nbformat_minor": 2
}
