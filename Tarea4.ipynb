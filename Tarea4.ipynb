{
 "cells": [
  {
   "cell_type": "markdown",
   "metadata": {},
   "source": [
    "# Tarea 4 - Reticulados\n",
    "Para el miércoles 15 de abril a las 23:59"
   ]
  },
  {
   "cell_type": "markdown",
   "metadata": {},
   "source": [
    "Completar este programa para determinar las fuerzas y reacciones en un\n",
    "reticulado segun lo visto en clases. La tarea sera evaluada con un\n",
    "reticulado arbitrario.\n",
    "\n",
    "Bonus: se premiara con 0.3 puntos del curso al que incorpore en su codigo alguna\n",
    "forma de mostrar los resultados en un grafico. Puede ser distintos colores, o con numeros.\n",
    "Queda a discreción del profesor la cantidad del puntaje asignado, segun la calidad del gráfico."
   ]
  },
  {
   "cell_type": "code",
   "execution_count": null,
   "metadata": {},
   "outputs": [],
   "source": [
    "%load_ext autoreload\n",
    "%autoreload 2\n",
    "from Truss import * # Importa el modulo con las funciones\n",
    "filename='truss-hyper.in'; #nombre del archivo con la informacion del reticulado"
   ]
  },
  {
   "cell_type": "code",
   "execution_count": null,
   "metadata": {},
   "outputs": [],
   "source": [
    "tr=Truss(filename)"
   ]
  },
  {
   "cell_type": "markdown",
   "metadata": {},
   "source": [
    "Se genera un objeto `Truss`, que tiene los siguientes atributos:\n",
    "\n",
    "- `tr.nodes [nro de nodos,2]`: tiene la posicion X,Y de cada nodo en el mismo\n",
    "orden en que fueron especificados en el archivo.\n",
    "- `tr.bars [nro de barras,2]`: contiene el numero de cada nodo que esta\n",
    "presente en la barra\n",
    "- `tr.reac [nro de reacciones, 3]`: en la primera columna tiene los nodos en los\n",
    "que esta aplicada la reaccion. La 2da y 3ra corresponden a un vector\n",
    "unitario especificando la direccion de la reaccion. El número de nodo en que está aplicada la fuerza puede venir en `float`. Hay que convertirlo a `int` para usarlo como índice: `i = int(f)`.\n",
    "- `tr.force [nro de fuerzas,3]`: en la primera columna tiene los nodos en los\n",
    "que esta aplicada la fuerza. La 2da y 3ra corresponden a un vector\n",
    "especificando la fuerza. Ojo!! El número de nodo en que está aplicada la fuerza puede venir en `float`. Hay que convertirlo a `int` para usarlo como índice: `i = int(f)`.\n",
    "\n",
    "Además cuenta con las funciones:\n",
    "\n",
    "- `tr.plot`: dibuja el reticulado. En negro se grafican las restricciones\n",
    "en rojo las fuerzas. Los vectores estan dibujados de manera que siempre apuntan al nodo.\n",
    "- `tr.X(i,j)` retorna el coeficiente X.\n",
    "- `tr.Y(i,j)` retorna el coeficiente Y."
   ]
  },
  {
   "cell_type": "code",
   "execution_count": null,
   "metadata": {},
   "outputs": [],
   "source": [
    "tr.plot()"
   ]
  },
  {
   "cell_type": "markdown",
   "metadata": {},
   "source": [
    "## Caso hiperestático\n",
    "\n",
    "Utilizando el codigo desarrollado en la Tarea 3, genere un programa que\n",
    "calcule la posicion desformada de un reticulado cualquiera, especificado\n",
    "en un archivo con la estructura de prueba.in.\n",
    "\n",
    "Por simplicidad solo se considerarán reacciones en el sistema coordenado\n",
    "x-y. Ej: [1 0] o [0 1]. Considere además que el reticulado puede ser hiperestatico.\n",
    "\n",
    "Como guia considere que debe generar la matriz `A` y la matriz `k`. Luego\n",
    "resolver `A*km*A'*dx=f`, considerando que hay algunas ecuaciones que no\n",
    "pueden ser resueltas directamente.\n",
    "\n",
    "Considere para las barras un modulo elastico E=200 GPa y que son cilindricas\n",
    "con un radio de 5 mm.\n",
    "\n",
    "Como resultado genere un vector `R` que contenga el resultado de las\n",
    "reacciones desconocidas en el mismo orden con el que fueron planteadas,\n",
    "un vector `F` con todas las fuerzas de las barras en orden \n",
    "un vector `DX` con los desplazamientos de todos los nodos (incluidos los que son cero), \n",
    "respetando el orden en\n",
    "que fueron planteados. Para escribir los resultados utilize la función\n",
    "`tr.write_results(DX,R,F,'output.txt')`"
   ]
  },
  {
   "cell_type": "code",
   "execution_count": null,
   "metadata": {},
   "outputs": [],
   "source": [
    "tr=Truss(filename)\n",
    "\n",
    "A=np.zeros((2*len(tr.nodes),len(tr.bars)))\n",
    "f=np.zeros(2*len(tr.nodes))\n",
    "E=200E9;\n",
    "area=5e-3**2*np.pi;\n",
    "km=np.zeros((len(tr.bars),len(tr.bars)))\n",
    "\n",
    "\n",
    "nb=len(tr.bars)\n",
    "\n",
    "# Aqui va su desarrollo.\n",
    "\n",
    "\n"
   ]
  },
  {
   "cell_type": "code",
   "execution_count": null,
   "metadata": {},
   "outputs": [],
   "source": [
    "tr.print_results(DX,R,F)\n",
    "tr.plot_deformed(DX,1000)"
   ]
  },
  {
   "cell_type": "markdown",
   "metadata": {},
   "source": [
    "Hints:\n",
    "- En `numpy`, si es que uno cuenta con un arreglo `A` de NxN y quiere obtener las filas especificadas en una lista `idx_f = [1, 2, 5]`, se puede hacer escribiendo `A[idx_f,:]`. De la misma manera si es que uno quisiera obtener las columnas `idx_c = [3, 4, 6]`, se escribe `A[:, idx_c]`. Finalmente si es que uno quiere obtener una sub-matriz de las filas y columnas especificadas en `idx_f` y `idx_c`, se logra con `A[idx_f, idx_c]`.\n",
    "- Se pueden borrar elementos de una lista `a = [0, 1, 2, 3, 4]` simplemente con el comando `a.remove(x)` donde `x` es el elemento que uno quiere borrar, no la posición.\n",
    "- `A.T` entrega el traspuesto del arreglo `A`.\n",
    "- `A.dot(b)` corresponde a la multiplicación matricial. No use `A*b`."
   ]
  }
 ],
 "metadata": {
  "kernelspec": {
   "display_name": "Python 3",
   "language": "python",
   "name": "python3"
  },
  "language_info": {
   "codemirror_mode": {
    "name": "ipython",
    "version": 3
   },
   "file_extension": ".py",
   "mimetype": "text/x-python",
   "name": "python",
   "nbconvert_exporter": "python",
   "pygments_lexer": "ipython3",
   "version": "3.7.3"
  }
 },
 "nbformat": 4,
 "nbformat_minor": 2
}
